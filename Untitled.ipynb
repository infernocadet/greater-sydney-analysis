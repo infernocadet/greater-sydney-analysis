{
 "cells": [
  {
   "cell_type": "markdown",
   "id": "ddd3d252",
   "metadata": {},
   "source": [
    "# Greater Sydney Analysis \n",
    "**Marc Caramoan**: *510435765*\n",
    "**Tyler Sitchon**: *510433392*"
   ]
  },
  {
   "cell_type": "markdown",
   "id": "2ab10204",
   "metadata": {},
   "source": [
    "## Task 1 - Importing and Reading Data\n",
    "The files we have to work with include:\n"
   ]
  },
  {
   "cell_type": "code",
   "execution_count": null,
   "id": "1f978347",
   "metadata": {},
   "outputs": [],
   "source": []
  }
 ],
 "metadata": {
  "kernelspec": {
   "display_name": "Python 3 (ipykernel)",
   "language": "python",
   "name": "python3"
  },
  "language_info": {
   "codemirror_mode": {
    "name": "ipython",
    "version": 3
   },
   "file_extension": ".py",
   "mimetype": "text/x-python",
   "name": "python",
   "nbconvert_exporter": "python",
   "pygments_lexer": "ipython3",
   "version": "3.11.5"
  }
 },
 "nbformat": 4,
 "nbformat_minor": 5
}
